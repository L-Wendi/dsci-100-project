{
 "cells": [
  {
   "cell_type": "markdown",
   "id": "228894cf-4cd2-4298-bd08-2f2ec4e8fa49",
   "metadata": {},
   "source": [
    "# Considering serum cholesterol levels and resting blood pressure, how likely is it for an individual to experience an exercise-induced angina?"
   ]
  },
  {
   "cell_type": "markdown",
   "id": "b891df1c-5511-4d8d-90c8-1a7c2099801d",
   "metadata": {},
   "source": [
    "By: Yuuta L., Wendi L., Ella T., Toma V."
   ]
  },
  {
   "cell_type": "markdown",
   "id": "865e5989-b0e0-40af-b1d9-d05dde2ebb36",
   "metadata": {},
   "source": [
    "## Introduction"
   ]
  },
  {
   "cell_type": "markdown",
   "id": "1be79009-b35e-40ab-a94b-88cfafaef627",
   "metadata": {},
   "source": [
    "An angina is a common symptom of cardiovascular disease. It occurs when parts of the heart are not sufficiently supplied with oxygenated blood as a result of atherosclerosis (NHLBI, 2023). Atherosclerosis is the build-up of plaque in arteries usually caused by high levels of cholesterol that accumulate on artery walls, triggering an immune response. White blood cells attempt to clear the build-up but cling to the walls, forming a growing lump that permanently stays in place (Harvard Health, 2023). As a result, fewer red blood cells carrying oxygen are able to pass through the artery at once. Exercise-induced angina occurs as heart rate increases during exercise to supply more oxygen to the cells in need, inducing chest pain. The higher demand in oxygen and restricted supply due to the shrunken diameter of the artery leads to cardiac cell death (Heart and Stroke Canada). Our model aims to predict the presence of an exercise induced angina for patients, taking into account their resting blood pressure as well as their cholesterol levels."
   ]
  },
  {
   "cell_type": "markdown",
   "id": "75c9d083-bd25-4c60-810c-e7c288fdf2b1",
   "metadata": {},
   "source": [
    "## Preliminary Exploratory Data Analysis"
   ]
  },
  {
   "cell_type": "markdown",
   "id": "288539b5-073f-411a-b31a-97d90b91a0ad",
   "metadata": {},
   "source": [
    "Our research question is as follows: **Based on resting blood pressure and serum cholesterol levels, is the patient likely to experience exercise induced angina? How accurate is this prediction?**"
   ]
  },
  {
   "cell_type": "code",
   "execution_count": null,
   "id": "1f843484-c92d-49f6-b591-472fffd5726e",
   "metadata": {
    "tags": []
   },
   "outputs": [],
   "source": [
    "# First, import data into R.\n",
    "library(tidyverse)\n",
    "library(tidymodels)\n",
    "set.seed(1)\n",
    "heart_data <- read_csv(\"https://raw.githubusercontent.com/L-Wendi/dsci-100-project/main/heart.csv\")"
   ]
  },
  {
   "cell_type": "markdown",
   "id": "47985062-e74a-4a8a-a218-d9843130e884",
   "metadata": {},
   "source": [
    "We are using a 1988 heart disease dataset that contains 17 variables relating to cardiovascular health as well as basic information about the patients. Our dataset has 1025 rows of data and a comprehensive amount of variables for comparison. The dataset is from Kaggle (https://www.kaggle.com/datasets/johnsmith88/heart-disease-dataset), a pre-processed version of the dataset from https://archive.ics.uci.edu/dataset/45/heart+disease for better data analysis and readability. The definition of column names of the original dataset and the Kaggle dataset can be found on their respective websites.\n",
    "\n",
    "To answer our predictive question, we will use columns `trestbps` (Resting blood pressure, measured in mm Hg) and `chol` (Serum cholesterol, in mg / dL) to predict `exang` (Exercise induced angina)."
   ]
  },
  {
   "cell_type": "code",
   "execution_count": null,
   "id": "abe48c01-a65c-461f-b6c9-f8497cfc0e42",
   "metadata": {},
   "outputs": [],
   "source": [
    "heart_data <- heart_data |>\n",
    "    mutate(sex = fct_recode(as_factor(sex), \"Male\" = \"1\", \"Female\" = \"0\")) |>\n",
    "    mutate(exang = fct_recode(as_factor(exang), \"Yes\" = \"1\", \"No\" = \"0\")) |>\n",
    "    mutate(target = fct_recode(as_factor(target), \"No Disease\" = \"0\", \"Disease\" = \"1\"))"
   ]
  },
  {
   "cell_type": "markdown",
   "id": "f2671d29-be12-4636-be8f-b9a0b0fc6372",
   "metadata": {},
   "source": [
    "We did a summary of the predictors based on training data using the three columns of interest (`trestbps`, `chol`, and `exang`):"
   ]
  },
  {
   "cell_type": "code",
   "execution_count": null,
   "id": "00f2764d-8077-4205-8dd4-da8f8ade1a7b",
   "metadata": {},
   "outputs": [],
   "source": [
    "heart_split <- initial_split(heart_data, prop = 0.75, strata = exang)\n",
    "heart_training <- training(heart_split)\n",
    "heart_testing <- testing(heart_split)\n",
    "heart_predictors_info <- heart_training |>\n",
    "    select(exang, trestbps, chol) |>\n",
    "    group_by(exang) |>\n",
    "    summarize(count = n(),\n",
    "              mean_trestbps = mean(trestbps), max_trestbps = max(trestbps), min_trestbps = min(trestbps),\n",
    "              mean_chol = mean(chol), max_chol = max(chol), min_chol = min(chol))"
   ]
  },
  {
   "cell_type": "markdown",
   "id": "61bdc918-c1af-4a3f-932e-8707bb2cb440",
   "metadata": {},
   "source": [
    "In the preliminary analysis, we also drew a scatter plot based on training data to visualize the relationship between resting blood pressure and serum cholesterol, along with the presence of angina."
   ]
  },
  {
   "cell_type": "code",
   "execution_count": null,
   "id": "78f5f271-45b3-47f8-b27f-25c0154d3208",
   "metadata": {
    "tags": []
   },
   "outputs": [],
   "source": [
    "scatter_plot <- heart_training |> ggplot(aes(x = trestbps, y = chol, color = exang)) +\n",
    "    geom_point() +\n",
    "    labs(x = \"Resting blood pressure (mm Hg)\", y = \"Serum cholestorol (mg / dL)\", color = \"Presence of Angina\") +\n",
    "    scale_color_manual(values = c(\"red\", \"blue\"))"
   ]
  },
  {
   "cell_type": "markdown",
   "id": "bdbedc89-fb05-46af-9a2d-d65de94fd66d",
   "metadata": {},
   "source": [
    "## Methods\n",
    "\n",
    "To answer our predictive question, we will be using K-nearest neighbors to build a classifier that predicts if the patient experiences exercise induced angina. The variables used as predictors are the resting blood pressure (`trestbps`) and serum cholesterol levels (`chol`). The response variable is the categorical variable for exercised induced angina (`exang`), where 1 has been renamed to `Yes` and 0 to `No`.\n",
    "\n",
    "We can visualize the results with a standardized scatter graph of the resting blood pressure against the serum cholesterol levels, and color the points by the presence of exercise induced angina. We can label the predicted values differently (e.g., draw a circle or use color) and compare them against the expected classification. Besides graphs, we will also build a confusion matrix to compare the results and calculate accuracy / precision / recall.\n",
    "\n",
    "## Expected Outcomes and Significance\n",
    "\n",
    "Seeing as how an angina occurs because of atherosclerosis, we can predict that the cases of angina will increase as well when either variable increases. Being able to predict the likelihood of a patient getting an angina is very important in the medical field as being able to catch heart disease early on is the best way of preventing future life threatening problems. This model could bring up many questions about the causes of heart disease. Testing different variables in the model such as age, maximum heart rate, and resting heart rate can bring more insight into how this type of heart disease occurs. \n",
    "\n",
    "## Bibliography\n",
    "\n",
    "*Angina*, Heart and Stroke Foundation of Canada, 2023, www.heartandstroke.ca/heart-disease/conditions/angina.\n",
    "\n",
    "*Angina: Symptoms, Diagnosis and Treatments*, Harvard Health Publishing, 21 Sept. 2021, www.health.harvard.edu/heart-health/angina-symptoms-diagnosis-and-treatments. \n",
    "\n",
    "*What Is Angina?*, U.S. Department of Health and Human Services, 23 June 2023, www.nhlbi.nih.gov/health/angina"
   ]
  }
 ],
 "metadata": {
  "kernelspec": {
   "display_name": "R",
   "language": "R",
   "name": "ir"
  },
  "language_info": {
   "codemirror_mode": "r",
   "file_extension": ".r",
   "mimetype": "text/x-r-source",
   "name": "R",
   "pygments_lexer": "r",
   "version": "4.2.2"
  }
 },
 "nbformat": 4,
 "nbformat_minor": 5
}
