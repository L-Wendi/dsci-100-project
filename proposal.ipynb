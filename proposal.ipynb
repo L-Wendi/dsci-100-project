{
 "cells": [
  {
   "cell_type": "markdown",
   "id": "228894cf-4cd2-4298-bd08-2f2ec4e8fa49",
   "metadata": {},
   "source": [
    "# DSCI100 2023W1 Group Project Proposal - 27"
   ]
  },
  {
   "cell_type": "markdown",
   "id": "dc3c5bd2-bdd9-455a-8549-989e2176a28f",
   "metadata": {},
   "source": [
    "## Considering serum cholesterol levels and resting blood pressure, how likely is it for an individual to experience an exercise-induced angina?"
   ]
  },
  {
   "cell_type": "markdown",
   "id": "58f146ef-1b2e-42b6-b032-af2dd9222072",
   "metadata": {},
   "source": [
    "An angina is commonly a symptom of cardiovascular disease. It occurs when parts of the heart are not supplied with sufficient oxygen-rich blood as a result of plaque build-up in arteries, known as atherosclerosis (NHLBI, 2023). Atherosclerosis itself is usually caused by high levels of cholesterol that build up in the walls of said arteries, triggering an immune response from the organism, implicating white blood cells that target these build ups but instead get stuck in the areas they attempt to clear, forming a growing lump or structure that permanently stays in place (Harvard Health, 2023). As a result, less red blood cells carrying oxygen are able to pass through the artery at any one time. Exercising can therefore aggravate this phenomenon as our heart rate increases, to supply more oxygen to the cells in need, especially cardiac ones, inducing chest pain, known as an exercise induced angina. The higher demand in oxygen, but restricted supply due to the shrunken diameter of the artery due to the plaque build up leads to the death of cardiac cells that are unable to receive the necessary oxygen (Heart and Stroke Canada). \r\n",
    "\r\n",
    "As a result, we strive for our model to predict the presence of an exercise induced angina for random individuals, taking into account their resting blood pressure as well as their cholesterol levels measured in dl/mg. \r\n",
    "\r\n",
    "Our research question is as follows: **Based on resting blood pressure and serum cholesterol levels, is the patient likely to experience exercise induced angina? How accurate is this prediction?**\r\n",
    "\r\n",
    "We are using a 1988 heart disease dataset that contains 17 variables correlating to cardiovascular health as well as patients' age, sex, chest pain, blood pressure, cholestoral, blood sugar, ECG results, and more. Our dataset has 1025 rows of data from Cleveland, Hungary, Switzerland, and Long Beach V. We chose this dataset because it provides a comprehensive amount of variables to compare with, and it also has a large number of samples. Our dataset comes from Kaggle, and it is a compilation of the original dataset on https://archive.ics.uci.edu/dataset/45/heart+disease, but processed to be ready for data analysis.\r\n",
    "\r\n",
    "* https://www.kaggle.com/datasets/johnsmith88/heart-disease-dataset\r\n",
    "* https://www.nhlbi.nih.gov/health/angina\r\n",
    "* https://www.heartandstroke.ca/heart-disease/conditions/angina\r\n",
    "* https://www.health.harvard.edu/heart-health/angina-symptoms-diagnosis-and-treatments\r\n",
    "treatments\r\n"
   ]
  },
  {
   "cell_type": "markdown",
   "id": "75c9d083-bd25-4c60-810c-e7c288fdf2b1",
   "metadata": {},
   "source": [
    "## Preliminary Exploratory Data Analysis"
   ]
  },
  {
   "cell_type": "markdown",
   "id": "6d527aa4-c830-4918-b083-40c13799f01e",
   "metadata": {},
   "source": [
    "### Import data into R"
   ]
  },
  {
   "cell_type": "code",
   "execution_count": null,
   "id": "1f843484-c92d-49f6-b591-472fffd5726e",
   "metadata": {
    "tags": []
   },
   "outputs": [],
   "source": [
    "library(tidyverse)\n",
    "library(tidymodels)\n",
    "set.seed(1)"
   ]
  },
  {
   "cell_type": "code",
   "execution_count": null,
   "id": "fbfef4d9-04b6-4649-b859-524707730dfb",
   "metadata": {
    "tags": []
   },
   "outputs": [],
   "source": [
    "# The URL is downloaded from https://www.kaggle.com/datasets/johnsmith88/heart-disease-dataset\n",
    "heart_data <- read_csv(\"https://raw.githubusercontent.com/L-Wendi/dsci-100-project/main/heart.csv\")\n",
    "heart_data |> slice(1:3)"
   ]
  },
  {
   "cell_type": "markdown",
   "id": "5d827495-21cf-40f1-b60c-8d76f6f426a5",
   "metadata": {},
   "source": [
    "### Clean Data"
   ]
  },
  {
   "cell_type": "markdown",
   "id": "d0567da9-cfec-4dea-acab-1a5feb0e87b1",
   "metadata": {},
   "source": [
    "Our dataset comes from a website called Kaggle (https://www.kaggle.com/datasets/johnsmith88/heart-disease-dataset), and the dataset is based on https://archive.ics.uci.edu/dataset/45/heart+disease but pre-processed for better data analysis. The author of our dataset mutated several fields to improve its readibility. A comprehensive list of the columns in both original and our dataset are shown in the following table. To further more tidy the data, we also made several changes to it, which are also in the table:\r\n",
    "\r\n",
    "| Column   | Meaning                                            | Type         | Original Dataset                                                                       | Kaggle Dataset                                                                       | Our Modifications  |\r\n",
    "|----------|----------------------------------------------------|--------------|----------------------------------------------------------------------------------------|--------------------------------------------------------------------------------------|--------------------|\r\n",
    "| age      | Age of the patient (Years)                         | Quantitative | Number                                                                                 | No change                                                                            | No change          |\r\n",
    "| sex      | Assigned sex of the patient                        | Categorical  | Number (1: Male, 0: Female)                                                            | No change                                                                            | Change into factor |\r\n",
    "| cp       | Chest pain type                                    | Categorical  | Number (1: Typical Angina, 2: Atypical Angina, 3: Non-anginal Pain, 4: Asymptomatic)   | Number (0: Asymptomatic, 1: Atypical Angina, 2: Non-anginal Pain, 3: Typical Angina) | Change into factor |\r\n",
    "| trestbps | Resting blood pressuare (mm Hg)                    | Quantitative | Number                                                                                 | Number                                                                               | No change          |\r\n",
    "| chol     | Serum cholestoral (mg / dL)                        | Quantitative | Number                                                                                 | Number                                                                               | No change          |\r\n",
    "| fbs      | Fasting blood sugar > 120mg / dL                   | Categorical  | Number (1: True, 0: False)                                                             | No change                                                                            | Change into factor |\r\n",
    "| restecg  | Resting electrocardiographic results               | Categorical  | Number (0: Normal, 1: ST-T Wave Abnormal, 2: Left Ventricular Hypertrophy)             | No change                                                                            | Change into factor |\r\n",
    "| thalach  | Max heart rate achieved                            | Quantitative | Number                                                                                 | No change                                                                            | No change          |\r\n",
    "| exang    | Excrise induced angina                             | Categorical  | Number (1: Yes, 2: No)                                                                 | No change                                                                            | Change into factor |\r\n",
    "| oldpeak  | ST depression induced by exercise relative to rest | Quantitative | Number                                                                                 | No change                                                                            | No change          |\r\n",
    "| slope    | The slope of the peak exercise ST segment          | Categorical  | Number (1: Upsloping, 2: Flat, 3: Downsloping)                                         | Number (0: Downsloping, 1: Flat, 2: Upsloping)                                       | Change into factor |\r\n",
    "| ca       | Number of major vessels colored by flourosopy      | Quantitative | Number[0, 3]                                                                           | No change                                                                            | No change          |\r\n",
    "| thal     | (Not defined in the original dataset)              | Categorical  | Number (3: Normal, 6: Fixed Defect, 7: Reversable Defect)                              | Number (1: Normal, 2: Fixed Defect, 3: Reversable Defect)                            | Change into factor |\r\n",
    "| num      | Diagnose of heart disease                          | Categorical  | Number (0: No Disease (<50% diameter narrowing), 1: Disease (>50% diameter narrowing)) | Renamed to target                                                                    | Change into factor |\r\n",
    "\r\n",
    "The definition of column names of the original dataset can be found at https://archive.ics.uci.edu/dataset/45/heart+disease,and the columns of the Kaggle dataset is also on the Kaggle website.the Kaggle website."
   ]
  },
  {
   "cell_type": "code",
   "execution_count": null,
   "id": "abe48c01-a65c-461f-b6c9-f8497cfc0e42",
   "metadata": {},
   "outputs": [],
   "source": [
    "heart_data <- heart_data |>\n",
    "    mutate(sex = fct_recode(as_factor(sex), \"Male\" = \"1\", \"Female\" = \"0\")) |>\n",
    "    mutate(cp = fct_recode(as_factor(cp), \"Asymptomatic\" = \"0\", \"Atypical Angina\" = \"1\", \"Non-anginal Pain\" = \"2\", \"Typical Angina\" = \"3\")) |>\n",
    "    mutate(fbs = fct_recode(as_factor(fbs), \"True\" = \"1\", \"False\" = \"0\")) |>\n",
    "    mutate(restecg = fct_recode(as_factor(restecg), \"Normal\" = \"0\", \"ST-T Wave Abnormal\" = \"1\", \"Left Ventricular Hypertrophy\" = \"2\")) |>\n",
    "    mutate(exang = fct_recode(as_factor(exang), \"Yes\" = \"1\", \"No\" = \"0\")) |>\n",
    "    mutate(slope = fct_recode(as_factor(slope), \"Downsloping\" = \"0\", \"Flat\" = \"1\", \"Upsloping\" = \"2\")) |>\n",
    "    mutate(thal = fct_recode(as_factor(thal), \"Normal\" = \"1\", \"Fixed Defect\" = \"2\", \"Reversable Defect\" = \"3\")) |>\n",
    "    mutate(target = fct_recode(as_factor(target), \"No Disease\" = \"0\", \"Disease\" = \"1\"))\n",
    "\n",
    "heart_data |> slice(1:5)"
   ]
  },
  {
   "cell_type": "markdown",
   "id": "c9aa0162-be27-4b87-84e0-b0883409b78c",
   "metadata": {},
   "source": [
    "### Exploratory Analysis"
   ]
  },
  {
   "cell_type": "markdown",
   "id": "7351649e-f24f-4bca-a4f5-427d255404ad",
   "metadata": {},
   "source": [
    "To answer our predict question \"**Based on resting blood pressure and serum cholesterol levels, is the patient likely to experience exercise induced angina? How accurate is this prediction?**\", we are going to use columns `trestbps` (Resting blood pressure) and `chol` (Serum cholestoral) as predictors and column `exang` (Excrise induced angina) as class."
   ]
  },
  {
   "cell_type": "code",
   "execution_count": null,
   "id": "dcf582c6-d534-4bab-814c-aa57a1f51998",
   "metadata": {
    "tags": []
   },
   "outputs": [],
   "source": [
    "# Firstly, split the data into training and testing sets.\n",
    "heart_split <- initial_split(heart_data, prop = 0.75, strata = exang)\n",
    "heart_training <- training(heart_split)\n",
    "heart_testing <- testing(heart_split)"
   ]
  },
  {
   "cell_type": "markdown",
   "id": "3a4abc7f-619c-4fee-9f05-0606925c02c0",
   "metadata": {},
   "source": [
    "And then do a summary of the predictors based on training data:"
   ]
  },
  {
   "cell_type": "code",
   "execution_count": null,
   "id": "00f2764d-8077-4205-8dd4-da8f8ade1a7b",
   "metadata": {},
   "outputs": [],
   "source": [
    "heart_predictors_info <- heart_training |>\n",
    "    select(exang, trestbps, chol) |>\n",
    "    group_by(exang) |>\n",
    "    summarize(count = n(),\n",
    "              mean_trestbps = mean(trestbps),\n",
    "              max_trestbps = max(trestbps),\n",
    "              min_trestbps = min(trestbps),\n",
    "              mean_chol = mean(chol),\n",
    "              max_chol = max(chol),\n",
    "              min_chol = min(chol))\n",
    "\n",
    "heart_predictors_info"
   ]
  },
  {
   "cell_type": "markdown",
   "id": "61bdc918-c1af-4a3f-932e-8707bb2cb440",
   "metadata": {},
   "source": [
    "In the preliminary analysis, we are also drawing a scatter plot between resting blood pressure and serum cholestorol, based on whether there is angina. The plot is solely based on training data."
   ]
  },
  {
   "cell_type": "code",
   "execution_count": null,
   "id": "78f5f271-45b3-47f8-b27f-25c0154d3208",
   "metadata": {},
   "outputs": [],
   "source": [
    "scatter_plot <- heart_training |> ggplot(aes(x = trestbps, y = chol, color = exang)) +\n",
    "    geom_point() +\n",
    "    labs(x = \"Resting blood pressure (mm Hg)\",\n",
    "         y = \"Serum cholestorol (mg / dL)\",\n",
    "         color = \"Presence of Angina\") +\n",
    "    scale_color_manual(values = c(\"red\", \"blue\"))\n",
    "\n",
    "scatter_plot"
   ]
  },
  {
   "cell_type": "code",
   "execution_count": null,
   "id": "aaa0cac9-909a-4a64-8043-3f2ade1b4405",
   "metadata": {},
   "outputs": [],
   "source": []
  }
 ],
 "metadata": {
  "kernelspec": {
   "display_name": "R",
   "language": "R",
   "name": "ir"
  },
  "language_info": {
   "codemirror_mode": "r",
   "file_extension": ".r",
   "mimetype": "text/x-r-source",
   "name": "R",
   "pygments_lexer": "r",
   "version": "4.3.1"
  }
 },
 "nbformat": 4,
 "nbformat_minor": 5
}
