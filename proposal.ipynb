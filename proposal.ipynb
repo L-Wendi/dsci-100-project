{
 "cells": [
  {
   "cell_type": "code",
   "execution_count": null,
   "id": "1f843484-c92d-49f6-b591-472fffd5726e",
   "metadata": {
    "tags": []
   },
   "outputs": [],
   "source": [
    "library(tidyverse)\n",
    "library(tidymodels)\n",
    "set.seed(1)"
   ]
  },
  {
   "cell_type": "code",
   "execution_count": null,
   "id": "fbfef4d9-04b6-4649-b859-524707730dfb",
   "metadata": {
    "tags": []
   },
   "outputs": [],
   "source": [
    "heart_data <- read_csv(\"https://raw.githubusercontent.com/L-Wendi/dsci-100-project/main/heart.csv\")\n",
    "heart_data <- heart_data |>\n",
    "    mutate(exang = as_factor(exang)) |>\n",
    "    mutate(exang = fct_recode(exang, \"Yes\" = \"1\", \"No\" = \"0\"))"
   ]
  },
  {
   "cell_type": "code",
   "execution_count": null,
   "id": "dcf582c6-d534-4bab-814c-aa57a1f51998",
   "metadata": {
    "tags": []
   },
   "outputs": [],
   "source": [
    "heart_split <- initial_split(heart_data, prop = 0.75, strata = exang)\n",
    "heart_training <- training(heart_split)\n",
    "heart_testing <- testing(heart_split)"
   ]
  },
  {
   "cell_type": "code",
   "execution_count": null,
   "id": "00f2764d-8077-4205-8dd4-da8f8ade1a7b",
   "metadata": {},
   "outputs": [],
   "source": [
    "heart_variables_info <- heart_training |>\n",
    "    select(exang, trestbps, chol) |>\n",
    "    group_by(exang) |>\n",
    "    summarize(count = n(), mean_trestbps = mean(trestbps), max_trestbps = max(trestbps), min_trestbps = min(trestbps),\n",
    "             mean_chol = mean(chol), max_chol = max(chol), min_chol = min(chol))\n",
    "heart_variables_info"
   ]
  }
 ],
 "metadata": {
  "kernelspec": {
   "display_name": "R",
   "language": "R",
   "name": "ir"
  },
  "language_info": {
   "codemirror_mode": "r",
   "file_extension": ".r",
   "mimetype": "text/x-r-source",
   "name": "R",
   "pygments_lexer": "r",
   "version": "4.2.2"
  }
 },
 "nbformat": 4,
 "nbformat_minor": 5
}
