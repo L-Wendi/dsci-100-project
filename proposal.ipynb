{
 "cells": [
  {
   "cell_type": "markdown",
   "id": "228894cf-4cd2-4298-bd08-2f2ec4e8fa49",
   "metadata": {},
   "source": [
    "# Considering serum cholesterol levels and resting blood pressure, how likely is it for an individual to experience an exercise-induced angina?"
   ]
  },
  {
   "cell_type": "markdown",
   "id": "1be79009-b35e-40ab-a94b-88cfafaef627",
   "metadata": {},
   "source": [
    "An angina is commonly a symptom of cardiovascular disease. It occurs when parts of the heart are not supplied with sufficient oxygen-rich blood as a result of plaque build-up in arteries, known as atherosclerosis (NHLBI, 2023). Atherosclerosis itself is usually caused by high levels of cholesterol that build up in the walls of said arteries, triggering an immune response from the organism, implicating white blood cells that target these build ups but instead get stuck in the areas they attempt to clear, forming a growing lump or structure that permanently stays in place (Harvard Health, 2023). As a result, less red blood cells carrying oxygen are able to pass through the artery at any one time. Exercising can therefore aggravate this phenomenon as our heart rate increases, to supply more oxygen to the cells in need, especially cardiac ones, inducing chest pain, known as an exercise induced angina. The higher demand in oxygen, but restricted supply due to the shrunken diameter of the artery due to the plaque build up leads to the death of cardiac cells that are unable to receive the necessary oxygen (Heart and Stroke Canada). As a result, we strive for our model to predict the presence of an exercise induced angina for random individuals, taking into account their resting blood pressure as well as their cholesterol levels measured in dl/mg. \n",
    "\n",
    "Our research question is as follows: **Based on resting blood pressure and serum cholesterol levels, is the patient likely to experience exercise induced angina? How accurate is this prediction?**\n",
    "\n",
    "We are using a 1988 heart disease dataset that contains 17 variables correlating to cardiovascular health as well as patients' age, sex, chest pain, blood pressure, cholestoral, blood sugar, ECG results, and more. Our dataset has 1025 rows of data from Cleveland, Hungary, Switzerland, and Long Beach V. It provides a comprehensive amount of variables to compare with, and it also has a large number of samples."
   ]
  },
  {
   "cell_type": "markdown",
   "id": "75c9d083-bd25-4c60-810c-e7c288fdf2b1",
   "metadata": {},
   "source": [
    "## Preliminary Exploratory Data Analysis"
   ]
  },
  {
   "cell_type": "code",
   "execution_count": null,
   "id": "1f843484-c92d-49f6-b591-472fffd5726e",
   "metadata": {
    "tags": []
   },
   "outputs": [],
   "source": [
    "# First, import data into R.\n",
    "library(tidyverse)\n",
    "library(tidymodels)\n",
    "set.seed(1)\n",
    "heart_data <- read_csv(\"https://raw.githubusercontent.com/L-Wendi/dsci-100-project/main/heart.csv\")"
   ]
  },
  {
   "cell_type": "markdown",
   "id": "47985062-e74a-4a8a-a218-d9843130e884",
   "metadata": {},
   "source": [
    "Our dataset comes from a website called Kaggle (https://www.kaggle.com/datasets/johnsmith88/heart-disease-dataset), and the dataset is based on https://archive.ics.uci.edu/dataset/45/heart+disease but pre-processed for better data analysis. The author of our dataset mutated several fields to improve its readibility. We further mutate the dataframe to turn meanless categorical numbers into meaningful string factors. The definition of column names of the original dataset can be found at https://archive.ics.uci.edu/dataset/45/heart+disease,and the columns of the Kaggle dataset is also on the Kaggle website.\n",
    "\n",
    "To answer our predict question \"**Based on resting blood pressure and serum cholesterol levels, is the patient likely to experience exercise induced angina? How accurate is this prediction?**\", we are going to use columns `trestbps` (Resting blood pressure, measured in mm Hg) and `chol` (Serum cholestoral, in mg / dL) as predictors and column `exang` (Excrise induced angina) as class."
   ]
  },
  {
   "cell_type": "code",
   "execution_count": null,
   "id": "abe48c01-a65c-461f-b6c9-f8497cfc0e42",
   "metadata": {},
   "outputs": [],
   "source": [
    "heart_data <- heart_data |>\n",
    "    mutate(sex = fct_recode(as_factor(sex), \"Male\" = \"1\", \"Female\" = \"0\")) |>\n",
    "    mutate(exang = fct_recode(as_factor(exang), \"Yes\" = \"1\", \"No\" = \"0\")) |>\n",
    "    mutate(target = fct_recode(as_factor(target), \"No Disease\" = \"0\", \"Disease\" = \"1\"))"
   ]
  },
  {
   "cell_type": "markdown",
   "id": "f2671d29-be12-4636-be8f-b9a0b0fc6372",
   "metadata": {},
   "source": [
    "Based on the three columns of interest (`trestbps`, `chol`, and `exang`), we did a summary of the predictors based on training data:"
   ]
  },
  {
   "cell_type": "code",
   "execution_count": null,
   "id": "00f2764d-8077-4205-8dd4-da8f8ade1a7b",
   "metadata": {},
   "outputs": [],
   "source": [
    "heart_split <- initial_split(heart_data, prop = 0.75, strata = exang)\n",
    "heart_training <- training(heart_split)\n",
    "heart_testing <- testing(heart_split)\n",
    "heart_predictors_info <- heart_training |>\n",
    "    select(exang, trestbps, chol) |>\n",
    "    group_by(exang) |>\n",
    "    summarize(count = n(),\n",
    "              mean_trestbps = mean(trestbps), max_trestbps = max(trestbps), min_trestbps = min(trestbps),\n",
    "              mean_chol = mean(chol), max_chol = max(chol), min_chol = min(chol))"
   ]
  },
  {
   "cell_type": "markdown",
   "id": "61bdc918-c1af-4a3f-932e-8707bb2cb440",
   "metadata": {},
   "source": [
    "In the preliminary analysis, we are also drawing a scatter plot between resting blood pressure and serum cholestorol, based on whether there is angina. The plot is solely based on training data."
   ]
  },
  {
   "cell_type": "code",
   "execution_count": null,
   "id": "78f5f271-45b3-47f8-b27f-25c0154d3208",
   "metadata": {},
   "outputs": [],
   "source": [
    "scatter_plot <- heart_training |> ggplot(aes(x = trestbps, y = chol, color = exang)) +\n",
    "    geom_point() +\n",
    "    labs(x = \"Resting blood pressure (mm Hg)\", y = \"Serum cholestorol (mg / dL)\", color = \"Presence of Angina\") +\n",
    "    scale_color_manual(values = c(\"red\", \"blue\"))"
   ]
  },
  {
   "cell_type": "markdown",
   "id": "bdbedc89-fb05-46af-9a2d-d65de94fd66d",
   "metadata": {},
   "source": [
    "## Methods\n",
    "\n",
    "To answer our predict question, we will be using K-nearest neighbors to build a classifier that predicts if the patient experiences exercise induced angina. The variables used as predictors will be the resting blood pressure (column named `trestbps`) and serum cholesterol levels (column named `chol`). The response variable will be the categorical variable for exercised induced angina (column named `exang`), where 1 is Yes and 0 is No. These values have been renamed to `Yes` and `No`.\n",
    "\n",
    "To visualize the results, we can draw a standarized scatter graph between the resting blood pressure and the serum cholesterol levels, and color the points by whether the patient has exercise induced angima. We can label the predicted values differently (for example, draw a circle or have a background color) and compare them against the expected classification. Beside from graphs, we will also build a confusion matrix to compare the results and calculate accuracy / precision / recall.\n",
    "\n",
    "## Expected Outcomes and Significance\n",
    "\n",
    "Using our knowledge of the cardiovascular system it is reason to believe that resting blood pressure and cholesterol levels will have an overall positive relationship as the buildup of cholesterol is often a cause of higher blood pressure. Seeing as how an angina occurs because of atherosclerosis we can predict that the cases of angina will increase as well when either variable increases. \n",
    "\n",
    "Being able to predict the likelihood of a patient getting an Angina is very important in the medical field as being able to catch heart disease early on is the best way of preventing future life threatening problems that only increase the longer it goes untreated.\n",
    "\n",
    "This model could bring up many questions about causes and preventability of heart disease as a whole; testing different variables in the model such as age, maximum heart rate, and resting heart rate can bring more insight into how this type of heart disease occurs. \n",
    "\n",
    "## Bibliography\n",
    "\n",
    "*Angina*, Heart and Stroke Foundation of Canada, 2023, www.heartandstroke.ca/heart-disease/conditions/angina.\n",
    "\n",
    "*Angina: Symptoms, Diagnosis and Treatments*, Harvard Health Publishing, 21 Sept. 2021, www.health.harvard.edu/heart-health/angina-symptoms-diagnosis-and-treatments. \n",
    "\n",
    "*What Is Angina?*, U.S. Department of Health and Human Services, 23 June 2023, www.nhlbi.nih.gov/health/angina"
   ]
  }
 ],
 "metadata": {
  "kernelspec": {
   "display_name": "R",
   "language": "R",
   "name": "ir"
  },
  "language_info": {
   "codemirror_mode": "r",
   "file_extension": ".r",
   "mimetype": "text/x-r-source",
   "name": "R",
   "pygments_lexer": "r",
   "version": "4.3.1"
  }
 },
 "nbformat": 4,
 "nbformat_minor": 5
}
